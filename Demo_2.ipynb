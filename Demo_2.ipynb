{
  "nbformat": 4,
  "nbformat_minor": 0,
  "metadata": {
    "colab": {
      "provenance": [],
      "authorship_tag": "ABX9TyOh30zBulHCRQeUwW5BGbsf",
      "include_colab_link": true
    },
    "kernelspec": {
      "name": "python3",
      "display_name": "Python 3"
    },
    "language_info": {
      "name": "python"
    }
  },
  "cells": [
    {
      "cell_type": "markdown",
      "metadata": {
        "id": "view-in-github",
        "colab_type": "text"
      },
      "source": [
        "<a href=\"https://colab.research.google.com/github/bautista-mark-julian/CPE009A-OOP/blob/main/Demo_2.ipynb\" target=\"_parent\"><img src=\"https://colab.research.google.com/assets/colab-badge.svg\" alt=\"Open In Colab\"/></a>"
      ]
    },
    {
      "cell_type": "markdown",
      "source": [
        "#Algorithm\n",
        "\n",
        "*   Steps or\n",
        "*   List item\n",
        "\n",
        "\n",
        "#Flowchart Symbols\n",
        "\n",
        "*   oval-terminal;only for start and end of program\n",
        "*   hexagon- starts with initialize; declaration of variables\n",
        "*   paralellogram-input output\n",
        "*   diamond-yes or no\n",
        "*   rectangle- process\n",
        "*   arrows-direction of flowchart\n",
        "\n"
      ],
      "metadata": {
        "id": "aY2OXz9Y4Umf"
      }
    },
    {
      "cell_type": "code",
      "source": [
        "print(\"Enter three grades\")\n",
        "num1=int(input())\n",
        "num2=int(input())\n",
        "num3=int(input())\n",
        "\n",
        "sum=num1+num2+num3\n",
        "print(\"The sum is: \")\n",
        "print (sum)\n",
        "\n",
        "ave= sum/3\n",
        "print(\"The average is: \")\n",
        "print (float(ave))\n"
      ],
      "metadata": {
        "colab": {
          "base_uri": "https://localhost:8080/"
        },
        "id": "53Gto73b4LgG",
        "outputId": "439970d3-f9d6-42b4-8422-132d344fc35b"
      },
      "execution_count": 3,
      "outputs": [
        {
          "output_type": "stream",
          "name": "stdout",
          "text": [
            "Enter three grades\n",
            "50\n",
            "50\n",
            "55\n",
            "The sum is: \n",
            "155\n",
            "The average is: \n",
            "51.666666666666664\n"
          ]
        }
      ]
    }
  ]
}