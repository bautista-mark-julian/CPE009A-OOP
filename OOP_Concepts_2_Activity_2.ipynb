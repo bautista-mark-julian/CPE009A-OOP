{
  "nbformat": 4,
  "nbformat_minor": 0,
  "metadata": {
    "colab": {
      "provenance": [],
      "authorship_tag": "ABX9TyNviDKchjbeFqJ4cLlGoMYq",
      "include_colab_link": true
    },
    "kernelspec": {
      "name": "python3",
      "display_name": "Python 3"
    },
    "language_info": {
      "name": "python"
    }
  },
  "cells": [
    {
      "cell_type": "markdown",
      "metadata": {
        "id": "view-in-github",
        "colab_type": "text"
      },
      "source": [
        "<a href=\"https://colab.research.google.com/github/bautista-mark-julian/CPE009A-OOP/blob/main/OOP_Concepts_2_Activity_2.ipynb\" target=\"_parent\"><img src=\"https://colab.research.google.com/assets/colab-badge.svg\" alt=\"Open In Colab\"/></a>"
      ]
    },
    {
      "cell_type": "code",
      "execution_count": 31,
      "metadata": {
        "colab": {
          "base_uri": "https://localhost:8080/"
        },
        "id": "PNb7uexIdiXa",
        "outputId": "69b1b5bb-8575-4aa9-96a7-b80c1fc6590f"
      },
      "outputs": [
        {
          "output_type": "stream",
          "name": "stdout",
          "text": [
            "The sides of Triangle are 3\n",
            "The sides of Rectangle are 4\n",
            "The sides of Pentagon are 5\n",
            "The sides of Hexagon are 6\n",
            "The sides of Octagon are 8\n"
          ]
        }
      ],
      "source": [
        "class Shapes:\n",
        "  def __init__(self, sides):\n",
        "    self.__sides = sides\n",
        "\n",
        "  def sides(self):\n",
        "   return(self.__sides)\n",
        "\n",
        "class triangle(Shapes):\n",
        "  pass\n",
        "class rectangle(Shapes):\n",
        "  pass\n",
        "class pentagon(Shapes):\n",
        "  pass\n",
        "class hexagon(Shapes):\n",
        "  pass\n",
        "class octagon(Shapes):\n",
        "  pass\n",
        "triangle = triangle(3)\n",
        "triangle.sides()\n",
        "print(\"The sides of Triangle are\",triangle.sides())\n",
        "rectangle = rectangle(4)\n",
        "rectangle.sides()\n",
        "print(\"The sides of Rectangle are\",rectangle.sides())\n",
        "pentagon = pentagon(5)\n",
        "pentagon.sides()\n",
        "print(\"The sides of Pentagon are\",pentagon.sides())\n",
        "hexagon = hexagon(6)\n",
        "hexagon.sides()\n",
        "print(\"The sides of Hexagon are\",hexagon.sides())\n",
        "octagon = octagon(8)\n",
        "octagon.sides()\n",
        "print(\"The sides of Octagon are\",octagon.sides())"
      ]
    }
  ]
}