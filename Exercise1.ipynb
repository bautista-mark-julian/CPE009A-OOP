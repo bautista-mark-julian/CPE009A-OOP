{
  "nbformat": 4,
  "nbformat_minor": 0,
  "metadata": {
    "colab": {
      "provenance": [],
      "authorship_tag": "ABX9TyPYJ3SU5C4AHXjYO4lwkZ6B",
      "include_colab_link": true
    },
    "kernelspec": {
      "name": "python3",
      "display_name": "Python 3"
    },
    "language_info": {
      "name": "python"
    }
  },
  "cells": [
    {
      "cell_type": "markdown",
      "metadata": {
        "id": "view-in-github",
        "colab_type": "text"
      },
      "source": [
        "<a href=\"https://colab.research.google.com/github/bautista-mark-julian/CPE009A-OOP/blob/main/Exercise1.ipynb\" target=\"_parent\"><img src=\"https://colab.research.google.com/assets/colab-badge.svg\" alt=\"Open In Colab\"/></a>"
      ]
    },
    {
      "cell_type": "code",
      "source": [
        "Algorithm to get the perimeter and area of a rectangle\n",
        "How to get the Perimeter of a rectangle\n",
        "1. Start\n",
        "2. Initialize l=0, w=0, a=0, p=0\n",
        "3. Input l, w, a, p\n",
        "4.Compute for the area and perimeter of the rectangle\n",
        "A= (int(l)*int(w))\n",
        "P= 2*(int(l)+int(w))\n",
        "5. Print the calculated area and perimeter\n",
        "6. End\n"
      ],
      "metadata": {
        "id": "lwpqKDd8UhMB"
      },
      "execution_count": null,
      "outputs": []
    },
    {
      "cell_type": "code",
      "source": [
        "print(\"input numbers of rectangle\")\n",
        "l=input()\n",
        "w=input()\n",
        "A= (int(l)*int(w))\n",
        "P= 2*(int(l)+int(w))\n",
        "print (\"The Area of this rectangle is\", A)\n",
        "print (\"The Perimeter of this rectangle is\", P)\n"
      ],
      "metadata": {
        "colab": {
          "base_uri": "https://localhost:8080/"
        },
        "id": "DsNTuacnV60h",
        "outputId": "af90461e-6b67-4316-f26a-9d6c4b3ec251"
      },
      "execution_count": 25,
      "outputs": [
        {
          "output_type": "stream",
          "name": "stdout",
          "text": [
            "input numbers of rectangle\n",
            "10\n",
            "10\n",
            "The Area of this rectangle is 100\n",
            "The Perimeter of this rectangle is 40\n"
          ]
        }
      ]
    }
  ]
}