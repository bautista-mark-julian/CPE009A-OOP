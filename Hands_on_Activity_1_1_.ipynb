{
  "nbformat": 4,
  "nbformat_minor": 0,
  "metadata": {
    "colab": {
      "provenance": [],
      "authorship_tag": "ABX9TyOxGx+i8QJnNN33Zz2DjUn9",
      "include_colab_link": true
    },
    "kernelspec": {
      "name": "python3",
      "display_name": "Python 3"
    },
    "language_info": {
      "name": "python"
    }
  },
  "cells": [
    {
      "cell_type": "markdown",
      "metadata": {
        "id": "view-in-github",
        "colab_type": "text"
      },
      "source": [
        "<a href=\"https://colab.research.google.com/github/bautista-mark-julian/CPE009A-OOP/blob/main/Hands_on_Activity_1_1_.ipynb\" target=\"_parent\"><img src=\"https://colab.research.google.com/assets/colab-badge.svg\" alt=\"Open In Colab\"/></a>"
      ]
    },
    {
      "cell_type": "code",
      "execution_count": 6,
      "metadata": {
        "colab": {
          "base_uri": "https://localhost:8080/"
        },
        "id": "RjJywQQRy5BC",
        "outputId": "1f1eb3d4-82aa-4aae-c16f-1eae4b804d81"
      },
      "outputs": [
        {
          "output_type": "stream",
          "name": "stdout",
          "text": [
            "input numbers of Base\n",
            "19\n",
            "input numbers of Height\n",
            "10\n",
            "The Area of this triangle is 95.0\n"
          ]
        }
      ],
      "source": [
        "#1\n",
        "print(\"input numbers of Base\")\n",
        "b=input()\n",
        "print(\"input numbers of Height\")\n",
        "h=input()\n",
        "A= (1/2*int(b)*int(h))\n",
        "print (\"The Area of this triangle is\", A)"
      ]
    },
    {
      "cell_type": "code",
      "source": [
        "#2\n",
        "print(\"input Celsius degree\")\n",
        "C=input()\n",
        "F= (int(C) * (9/5) + 32)\n",
        "print (\"Fahrenheit is:\",F)"
      ],
      "metadata": {
        "colab": {
          "base_uri": "https://localhost:8080/"
        },
        "id": "f38SfwUW1g4w",
        "outputId": "a5bb0974-223b-46b0-bcda-9290498a05fb"
      },
      "execution_count": 10,
      "outputs": [
        {
          "output_type": "stream",
          "name": "stdout",
          "text": [
            "input Celsius degree\n",
            "-20\n",
            "Fahrenheit is: -4.0\n"
          ]
        }
      ]
    },
    {
      "cell_type": "code",
      "source": [
        "#3\n",
        "import math\n",
        "print(\"input x1\")\n",
        "x1=input()\n",
        "print(\"input x2\")\n",
        "x2=input()\n",
        "print(\"input y1\")\n",
        "y1=input()\n",
        "print(\"input y2\")\n",
        "y2=input()\n",
        "d = math.sqrt((int(x2)-int(x1))**2 + (int(y2)-int(y1))**2)\n",
        "print (\"The distance of the points is:\", d)"
      ],
      "metadata": {
        "colab": {
          "base_uri": "https://localhost:8080/"
        },
        "id": "QDsR0ZDN5hd4",
        "outputId": "a35d0965-7e72-4c80-c3d9-239fb2b2ec47"
      },
      "execution_count": 22,
      "outputs": [
        {
          "output_type": "stream",
          "name": "stdout",
          "text": [
            "input x1\n",
            "2\n",
            "input x2\n",
            "-3\n",
            "input y1\n",
            "2\n",
            "input y2\n",
            "3\n",
            "The distance of the points is: 5.0990195135927845\n"
          ]
        }
      ]
    }
  ]
}