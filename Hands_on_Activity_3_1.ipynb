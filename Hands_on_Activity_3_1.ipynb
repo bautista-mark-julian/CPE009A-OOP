{
  "nbformat": 4,
  "nbformat_minor": 0,
  "metadata": {
    "colab": {
      "provenance": [],
      "authorship_tag": "ABX9TyOLrzh9sdNVNaS0uBaykC60",
      "include_colab_link": true
    },
    "kernelspec": {
      "name": "python3",
      "display_name": "Python 3"
    },
    "language_info": {
      "name": "python"
    }
  },
  "cells": [
    {
      "cell_type": "markdown",
      "metadata": {
        "id": "view-in-github",
        "colab_type": "text"
      },
      "source": [
        "<a href=\"https://colab.research.google.com/github/bautista-mark-julian/CPE009A-OOP/blob/main/Hands_on_Activity_3_1.ipynb\" target=\"_parent\"><img src=\"https://colab.research.google.com/assets/colab-badge.svg\" alt=\"Open In Colab\"/></a>"
      ]
    },
    {
      "cell_type": "markdown",
      "source": [],
      "metadata": {
        "id": "3p15lhERu6lV"
      }
    },
    {
      "cell_type": "code",
      "source": [
        "import math\n",
        "\n",
        "coordinates_list = [(1, 1), (2, 3)]\n",
        "\n",
        "d = math.sqrt((coordinates_list[1][0] - coordinates_list[0][0])**2 + (coordinates_list[1][1] - coordinates_list[0][1])**2)\n",
        "\n",
        "print(f\"The distance between {coordinates_list[0]} and {coordinates_list[1]} is\",d)"
      ],
      "metadata": {
        "colab": {
          "base_uri": "https://localhost:8080/"
        },
        "id": "AlAhExmKyy_Q",
        "outputId": "6c61145d-0ccb-4b89-9a2b-ac1d4b7089ff"
      },
      "execution_count": 58,
      "outputs": [
        {
          "output_type": "stream",
          "name": "stdout",
          "text": [
            "The distance between (1, 1) and (2, 3) is 2.23606797749979\n"
          ]
        }
      ]
    },
    {
      "cell_type": "code",
      "source": [
        "input_string = \"This is a stupid example of a string with stupid words.\"\n",
        "\n",
        "new_string = ' '.join(['*' * len(word) if word.lower() == 'stupid' else word for word in input_string.split()])\n",
        "\n",
        "print(new_string)"
      ],
      "metadata": {
        "colab": {
          "base_uri": "https://localhost:8080/"
        },
        "id": "RtaUF_J4zzST",
        "outputId": "a056fb62-99a3-46bf-e4f6-29f4aa1e5af9"
      },
      "execution_count": 60,
      "outputs": [
        {
          "output_type": "stream",
          "name": "stdout",
          "text": [
            "This is a ****** example of a string with ****** words.\n"
          ]
        }
      ]
    },
    {
      "cell_type": "code",
      "source": [
        "phonebook = [\n",
        "    {\"id\": 1, \"name\": \"MJ\", \"contact\": \"098754352616\", \"address\": \"319 P. Manuel St\"},\n",
        "    {\"id\": 2, \"name\": \"Julian\", \"contact\": \"092712834623\", \"address\": \"8 A. Bonifacio St\"},\n",
        "    {\"id\": 3, \"name\": \"Christian\", \"contact\": \"09724655647\", \"address\": \"90 QC St\"}\n",
        "]\n",
        "\n",
        "def display_record(record):\n",
        "    print(\"Name:\", record[\"name\"])\n",
        "    print(\"Contact:\", record[\"contact\"])\n",
        "    print(\"Address:\", record[\"address\"])\n",
        "\n",
        "id_input = int(input(\"Enter the id of the record to display: \"))\n",
        "\n",
        "record = next(filter(lambda x: x[\"id\"] == id_input, phonebook), None)\n",
        "\n",
        "if record:\n",
        "    display_record(record)\n",
        "else:\n",
        "    print(\"Record not found.\")\n"
      ],
      "metadata": {
        "colab": {
          "base_uri": "https://localhost:8080/"
        },
        "id": "YtKslB4-0Wm3",
        "outputId": "06f4bcbe-ba7c-4256-a062-e4ae05172a57"
      },
      "execution_count": 65,
      "outputs": [
        {
          "output_type": "stream",
          "name": "stdout",
          "text": [
            "Enter the id of the record to display: 2\n",
            "Name: Julian\n",
            "Contact: 092712834623\n",
            "Address: 8 A. Bonifacio St\n"
          ]
        }
      ]
    }
  ]
}