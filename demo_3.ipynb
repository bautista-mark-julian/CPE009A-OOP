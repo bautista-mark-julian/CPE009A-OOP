{
  "nbformat": 4,
  "nbformat_minor": 0,
  "metadata": {
    "colab": {
      "provenance": [],
      "authorship_tag": "ABX9TyNljlnZaG7jZ5qFjkpIJ5pq",
      "include_colab_link": true
    },
    "kernelspec": {
      "name": "python3",
      "display_name": "Python 3"
    },
    "language_info": {
      "name": "python"
    }
  },
  "cells": [
    {
      "cell_type": "markdown",
      "metadata": {
        "id": "view-in-github",
        "colab_type": "text"
      },
      "source": [
        "<a href=\"https://colab.research.google.com/github/bautista-mark-julian/CPE009A-OOP/blob/main/demo_3.ipynb\" target=\"_parent\"><img src=\"https://colab.research.google.com/assets/colab-badge.svg\" alt=\"Open In Colab\"/></a>"
      ]
    },
    {
      "cell_type": "markdown",
      "source": [],
      "metadata": {
        "id": "XL93AhIsNWoq"
      }
    },
    {
      "cell_type": "code",
      "source": [
        "#elif statement\n",
        "a = 12\n",
        "b = 12\n",
        "if b>a:\n",
        "  print(\"b is greater than a\")\n",
        "elif a==b:\n",
        "  print(\"a and b are equal\")"
      ],
      "metadata": {
        "colab": {
          "base_uri": "https://localhost:8080/"
        },
        "id": "wpPnfF1GPsIW",
        "outputId": "da482e20-0771-46a8-a8b8-97d62de9bbc3"
      },
      "execution_count": 8,
      "outputs": [
        {
          "output_type": "stream",
          "name": "stdout",
          "text": [
            "a and b are equal\n"
          ]
        }
      ]
    },
    {
      "cell_type": "code",
      "source": [
        "#else statement\n",
        "a=200\n",
        "b=33\n",
        "if b>a:\n",
        "  print(\"b is greater than a\")\n",
        "elif a==b:\n",
        "  print(\"a and b are equal\")\n",
        "else:\n",
        "  print(\"a is greater than b\")"
      ],
      "metadata": {
        "colab": {
          "base_uri": "https://localhost:8080/"
        },
        "id": "v7IOagXRQWuQ",
        "outputId": "b469e404-9ac8-4da6-e701-82bb08888e8f"
      },
      "execution_count": 9,
      "outputs": [
        {
          "output_type": "stream",
          "name": "stdout",
          "text": [
            "a is greater than b\n"
          ]
        }
      ]
    },
    {
      "cell_type": "code",
      "source": [
        "#shorthand if statement\n",
        "if a>b:print(\"a is greater than b\")"
      ],
      "metadata": {
        "colab": {
          "base_uri": "https://localhost:8080/"
        },
        "id": "TvZuRGPpScAn",
        "outputId": "204e9e64-6e63-47b1-a725-368326e9858f"
      },
      "execution_count": 10,
      "outputs": [
        {
          "output_type": "stream",
          "name": "stdout",
          "text": [
            "a is greater than b\n"
          ]
        }
      ]
    },
    {
      "cell_type": "code",
      "source": [
        "#shorthand if else statement\n",
        "a=2\n",
        "b=330\n",
        "print(\"A\") if a>b else print(\"B\")"
      ],
      "metadata": {
        "colab": {
          "base_uri": "https://localhost:8080/"
        },
        "id": "QKOp6KwjScH2",
        "outputId": "42f733a5-5386-41a2-da83-9323239343ed"
      },
      "execution_count": 13,
      "outputs": [
        {
          "output_type": "stream",
          "name": "stdout",
          "text": [
            "B\n"
          ]
        }
      ]
    },
    {
      "cell_type": "code",
      "source": [
        "#if statement\n",
        "a=12\n",
        "b=100\n",
        "if b>a:\n",
        "  print(\"b is greater than a\")"
      ],
      "metadata": {
        "colab": {
          "base_uri": "https://localhost:8080/"
        },
        "id": "mMOSlBkMPTl0",
        "outputId": "09e0e94b-681a-457b-c518-d8c4824ae28b"
      },
      "execution_count": 3,
      "outputs": [
        {
          "output_type": "stream",
          "name": "stdout",
          "text": [
            "b is greater than a\n"
          ]
        }
      ]
    },
    {
      "cell_type": "code",
      "source": [
        "#and both conditions are true\n",
        "a=200\n",
        "b=33\n",
        "c=500\n",
        "if a>b and c>a:\n",
        "  print(\"Both conditions are true\")"
      ],
      "metadata": {
        "colab": {
          "base_uri": "https://localhost:8080/"
        },
        "id": "c2H9HwqKTxxg",
        "outputId": "d0e8319a-77a7-4109-f8d0-dcdc5e14e120"
      },
      "execution_count": 14,
      "outputs": [
        {
          "output_type": "stream",
          "name": "stdout",
          "text": [
            "Both conditions are true\n"
          ]
        }
      ]
    },
    {
      "cell_type": "code",
      "source": [
        "#and both conditions are false\n",
        "a=200\n",
        "b=33\n",
        "c=500\n",
        "if a<b and c<a:\n",
        "  print(\"Both conditions are true\")\n",
        "else:\n",
        "  print(\"Both conditions are false\")"
      ],
      "metadata": {
        "colab": {
          "base_uri": "https://localhost:8080/"
        },
        "id": "3oEQ6-n1UG15",
        "outputId": "47fbaf55-6347-4b8e-b042-7ebd2ec7c714"
      },
      "execution_count": 18,
      "outputs": [
        {
          "output_type": "stream",
          "name": "stdout",
          "text": [
            "Both conditions are false\n"
          ]
        }
      ]
    },
    {
      "cell_type": "code",
      "source": [
        "#or at least one of the conditions is true\n",
        "a=200\n",
        "b=33\n",
        "c=500\n",
        "if a>b or a>c:\n",
        "  print(\"At least one of the conditions is True\")"
      ],
      "metadata": {
        "colab": {
          "base_uri": "https://localhost:8080/"
        },
        "id": "9JqEErYKUrRh",
        "outputId": "f9580909-1670-4165-8a91-3e1666b43ea4"
      },
      "execution_count": 20,
      "outputs": [
        {
          "output_type": "stream",
          "name": "stdout",
          "text": [
            "At least one of the conditions is True\n"
          ]
        }
      ]
    },
    {
      "cell_type": "code",
      "source": [
        "#Nested if\n",
        "x=41\n",
        "if x>10:\n",
        "  print(\"Above 10,\")\n",
        "if x>20:\n",
        "  print(\"and also above 20,\")\n",
        "if x>30:\n",
        "  print(\"and also above 30,\")\n",
        "if x>40:\n",
        "  print(\"and also above 40,\")\n",
        "if x>50:\n",
        "  print(\"and also above 50!\")\n",
        "elif x<20:\n",
        "  print(\"but not above 20\")\n",
        "elif x<30:\n",
        "  print(\"but not above 30\")\n",
        "elif x<40:\n",
        "  print(\"but not above 40\")\n",
        "else:\n",
        "  print(\"Not above 50\")\n"
      ],
      "metadata": {
        "colab": {
          "base_uri": "https://localhost:8080/"
        },
        "id": "Lsfi72kaVCAx",
        "outputId": "e5ab94e6-f8ec-4934-80d8-004177cdc412"
      },
      "execution_count": 45,
      "outputs": [
        {
          "output_type": "stream",
          "name": "stdout",
          "text": [
            "Above 10,\n",
            "and also above 20,\n",
            "and also above 30,\n",
            "and also above 40,\n",
            "Not above 50\n"
          ]
        }
      ]
    }
  ]
}