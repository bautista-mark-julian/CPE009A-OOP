{
  "nbformat": 4,
  "nbformat_minor": 0,
  "metadata": {
    "colab": {
      "provenance": [],
      "authorship_tag": "ABX9TyPaWl6ew/Ji4ROJJXNWRq+a",
      "include_colab_link": true
    },
    "kernelspec": {
      "name": "python3",
      "display_name": "Python 3"
    },
    "language_info": {
      "name": "python"
    }
  },
  "cells": [
    {
      "cell_type": "markdown",
      "metadata": {
        "id": "view-in-github",
        "colab_type": "text"
      },
      "source": [
        "<a href=\"https://colab.research.google.com/github/bautista-mark-julian/CPE009A-OOP/blob/main/Hands_on_Activity_2_1.ipynb\" target=\"_parent\"><img src=\"https://colab.research.google.com/assets/colab-badge.svg\" alt=\"Open In Colab\"/></a>"
      ]
    },
    {
      "cell_type": "code",
      "source": [
        "for _ in range(3):\n",
        "    print(\"Input Name of the Student\")\n",
        "    std = input()\n",
        "\n",
        "    PHOA = float(input(\"Enter Prelim Hands-on Activity grade: \"))\n",
        "    PQUIZ = float(input(\"Enter Prelim Quiz grade: \"))\n",
        "    PAS = float(input(\"Enter Prelim Assignment grade: \"))\n",
        "    PCS = PHOA * 0.5 + PQUIZ * 0.3 + PAS * 0.2\n",
        "    print(\"Prelim CS is: \", PCS)\n",
        "    PEX = float(input(\"Enter Prelim Exam grade: \"))\n",
        "    PG = PEX * 0.5 + PCS * 0.5\n",
        "    print(\"Prelim Grade is: \", \"%.2f\" % PG)\n",
        "\n",
        "    MHOA = float(input(\"Enter Midterm Hands-on Activity grade: \"))\n",
        "    MQUIZ = float(input(\"Enter Midterm Quiz grade: \"))\n",
        "    MAS = float(input(\"Enter Midterm Assignment grade: \"))\n",
        "    MCS = MHOA * 0.5 + MQUIZ * 0.3 + MAS * 0.2\n",
        "    print(\"Midterm CS is: \", MCS)\n",
        "    MEX = float(input(\"Enter Midterm Exam grade: \"))\n",
        "    MSG = MEX * 0.5 + MCS * 0.5\n",
        "    MG = (PG * (1 / 3)) + (MSG * (2 / 3))\n",
        "    print(\"Midterm Grade is: \", \"%.2f\" % MG)\n",
        "\n",
        "    FHOA = float(input(\"Enter Final Hands-on Activity grade: \"))\n",
        "    FQUIZ = float(input(\"Enter Final Quiz grade: \"))\n",
        "    FAS = float(input(\"Enter Final Assignment grade: \"))\n",
        "    FCS = FHOA * 0.5 + FQUIZ * 0.3 + FAS * 0.2\n",
        "    print(\"Final CS is: \", FCS)\n",
        "    FEX = float(input(\"Enter Final Exam grade: \"))\n",
        "    FSG = FEX * 0.5 + FCS * 0.5\n",
        "    FG = (MG * (1 / 3)) + (FSG * (2 / 3))\n",
        "    print(\"Final Grade is: \", \"%.2f\" % FG)"
      ],
      "metadata": {
        "colab": {
          "base_uri": "https://localhost:8080/"
        },
        "id": "eJ7W8vWlu7Wb",
        "outputId": "9d0e8b70-263e-4053-af0c-103d448e8f76"
      },
      "execution_count": 40,
      "outputs": [
        {
          "output_type": "stream",
          "name": "stdout",
          "text": [
            "Input Name of the Student\n",
            "MJ\n",
            "Enter Prelim Hands-on Activity grade: 100\n",
            "Enter Prelim Quiz grade: 100\n",
            "Enter Prelim Assignment grade: 90\n",
            "Prelim CS is:  98.0\n",
            "Enter Prelim Exam grade: 90\n",
            "Prelim Grade is:  94.00\n",
            "Enter Midterm Hands-on Activity grade: 100\n",
            "Enter Midterm Quiz grade: 100\n",
            "Enter Midterm Assignment grade: 100\n",
            "Midterm CS is:  100.0\n",
            "Enter Midterm Exam grade: 90\n",
            "Midterm Grade is:  94.67\n",
            "Enter Final Hands-on Activity grade: 90\n",
            "Enter Final Quiz grade: 100\n",
            "Enter Final Assignment grade: 90\n",
            "Final CS is:  93.0\n",
            "Enter Final Exam grade: 20\n",
            "Final Grade is:  69.22\n",
            "Input Name of the Student\n",
            "Christian\n",
            "Enter Prelim Hands-on Activity grade: 90\n",
            "Enter Prelim Quiz grade: 90\n",
            "Enter Prelim Assignment grade: 100\n",
            "Prelim CS is:  92.0\n",
            "Enter Prelim Exam grade: 100\n",
            "Prelim Grade is:  96.00\n",
            "Enter Midterm Hands-on Activity grade: 90\n",
            "Enter Midterm Quiz grade: 50\n",
            "Enter Midterm Assignment grade: 60\n",
            "Midterm CS is:  72.0\n",
            "Enter Midterm Exam grade: 70\n",
            "Midterm Grade is:  79.33\n",
            "Enter Final Hands-on Activity grade: 80\n",
            "Enter Final Quiz grade: 90\n",
            "Enter Final Assignment grade: 100\n",
            "Final CS is:  87.0\n",
            "Enter Final Exam grade: 90\n",
            "Final Grade is:  85.44\n",
            "Input Name of the Student\n",
            "Julian\n",
            "Enter Prelim Hands-on Activity grade: 89\n",
            "Enter Prelim Quiz grade: 90\n",
            "Enter Prelim Assignment grade: 88\n",
            "Prelim CS is:  89.1\n",
            "Enter Prelim Exam grade: 87\n",
            "Prelim Grade is:  88.05\n",
            "Enter Midterm Hands-on Activity grade: 86\n",
            "Enter Midterm Quiz grade: 85\n",
            "Enter Midterm Assignment grade: 91\n",
            "Midterm CS is:  86.7\n",
            "Enter Midterm Exam grade: 94\n",
            "Midterm Grade is:  89.58\n",
            "Enter Final Hands-on Activity grade: 100\n",
            "Enter Final Quiz grade: 100\n",
            "Enter Final Assignment grade: 98\n",
            "Final CS is:  99.6\n",
            "Enter Final Exam grade: 50\n",
            "Final Grade is:  79.73\n"
          ]
        }
      ]
    },
    {
      "cell_type": "markdown",
      "source": [],
      "metadata": {
        "id": "3p15lhERu6lV"
      }
    }
  ]
}