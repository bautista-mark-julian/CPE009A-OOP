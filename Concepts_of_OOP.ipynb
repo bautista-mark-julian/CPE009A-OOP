{
  "nbformat": 4,
  "nbformat_minor": 0,
  "metadata": {
    "colab": {
      "provenance": [],
      "authorship_tag": "ABX9TyNOXao7D8JPDzRuRdE/FKgY",
      "include_colab_link": true
    },
    "kernelspec": {
      "name": "python3",
      "display_name": "Python 3"
    },
    "language_info": {
      "name": "python"
    }
  },
  "cells": [
    {
      "cell_type": "markdown",
      "metadata": {
        "id": "view-in-github",
        "colab_type": "text"
      },
      "source": [
        "<a href=\"https://colab.research.google.com/github/bautista-mark-julian/CPE009A-OOP/blob/main/Concepts_of_OOP.ipynb\" target=\"_parent\"><img src=\"https://colab.research.google.com/assets/colab-badge.svg\" alt=\"Open In Colab\"/></a>"
      ]
    },
    {
      "cell_type": "code",
      "execution_count": 5,
      "metadata": {
        "colab": {
          "base_uri": "https://localhost:8080/"
        },
        "id": "RfYRKN3Va3hI",
        "outputId": "203de92f-1835-4c59-a793-c107f6f91f9e"
      },
      "outputs": [
        {
          "output_type": "stream",
          "name": "stdout",
          "text": [
            "<__main__.Car object at 0x7c632ae26d10>\n"
          ]
        }
      ],
      "source": [
        "class Car:\n",
        "  pass\n",
        "\n",
        "obj1 = Car()\n",
        "print(obj1)"
      ]
    },
    {
      "cell_type": "code",
      "source": [
        "class Car:\n",
        "  def __init__ (self,name,color,mileage):\n",
        "    self.name = name\n",
        "    self.color = color\n",
        "    self.mileage = mileage\n",
        "obj1 = Car(\"BMW\",\"Red\",1000)\n",
        "obj2 = Car(\"Toyota\",\"Blue\",1200)\n",
        "print(obj1.name)\n",
        "print(obj1.color)\n",
        "print(obj1.mileage)\n",
        "print(obj2.name)\n",
        "print(obj2.color)\n",
        "print(obj2.mileage)"
      ],
      "metadata": {
        "colab": {
          "base_uri": "https://localhost:8080/"
        },
        "id": "ei06UVorjQ6q",
        "outputId": "f0f33fad-5a90-466b-88ed-07c027f5c0bb"
      },
      "execution_count": 40,
      "outputs": [
        {
          "output_type": "stream",
          "name": "stdout",
          "text": [
            "BMW\n",
            "Red\n",
            "1000\n",
            "Toyota\n",
            "Blue\n",
            "1200\n"
          ]
        }
      ]
    },
    {
      "cell_type": "code",
      "source": [
        "class Student:\n",
        "  def __init__(self,name,age,course,section):\n",
        "    self.name=name\n",
        "    self.age=age\n",
        "    self.course=course\n",
        "    self.section=section\n",
        "student1 = Student(\"Mark Julian Bautista\", 19, \"CPE\", \"CPE12S6\")\n",
        "student2 = Student(\"Avegaile Mostera\", 20, \"OAD\", \"BSOA-31-B\")\n",
        "print(\"My name is \" ,student1.name)\n",
        "print(\"I'm \",student1.age, \"years old\")\n",
        "print(\"My Course is \", student1.course)\n",
        "print(\"My section is \", student1.section)\n",
        "print(\"\")\n",
        "print(\"My name is \" ,student2.name)\n",
        "print(\"I'm \",student2.age, \"years old\")\n",
        "print(\"My Course is \", student2.course)\n",
        "print(\"My section is \", student2.section)"
      ],
      "metadata": {
        "colab": {
          "base_uri": "https://localhost:8080/"
        },
        "id": "Wgl76SM_kGV6",
        "outputId": "694e2262-6bf9-4c9e-f265-9d5e12a48693"
      },
      "execution_count": 45,
      "outputs": [
        {
          "output_type": "stream",
          "name": "stdout",
          "text": [
            "My name is  Mark Julian Bautista\n",
            "I'm  19 years old\n",
            "My Course is  CPE\n",
            "My section is  CPE12S6\n",
            "\n",
            "My name is  Avegaile Mostera\n",
            "I'm  20 years old\n",
            "My Course is  OAD\n",
            "My section is  BSOA-31-B\n"
          ]
        }
      ]
    }
  ]
}