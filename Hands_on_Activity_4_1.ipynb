{
  "nbformat": 4,
  "nbformat_minor": 0,
  "metadata": {
    "colab": {
      "provenance": [],
      "authorship_tag": "ABX9TyMvqMW0NKyXH6XIYPVKXep1",
      "include_colab_link": true
    },
    "kernelspec": {
      "name": "python3",
      "display_name": "Python 3"
    },
    "language_info": {
      "name": "python"
    }
  },
  "cells": [
    {
      "cell_type": "markdown",
      "metadata": {
        "id": "view-in-github",
        "colab_type": "text"
      },
      "source": [
        "<a href=\"https://colab.research.google.com/github/bautista-mark-julian/CPE009A-OOP/blob/main/Hands_on_Activity_4_1.ipynb\" target=\"_parent\"><img src=\"https://colab.research.google.com/assets/colab-badge.svg\" alt=\"Open In Colab\"/></a>"
      ]
    },
    {
      "cell_type": "code",
      "source": [
        "sentence = \"This is a lazy wolf in the forest with stupid head.\"\n",
        "bad_words = [\"lazy\", \"stupid\"]\n",
        "\n",
        "new_string = ' '.join(['*' * len(word) if word.lower() in bad_words else word for word in sentence.split()])\n",
        "print(new_string)"
      ],
      "metadata": {
        "colab": {
          "base_uri": "https://localhost:8080/"
        },
        "id": "1KB_DIXv5vr2",
        "outputId": "959fefef-72c3-46eb-d357-8440e154538c"
      },
      "execution_count": 80,
      "outputs": [
        {
          "output_type": "stream",
          "name": "stdout",
          "text": [
            "This is a **** wolf in the forest with ****** head.\n"
          ]
        }
      ]
    },
    {
      "cell_type": "code",
      "source": [
        "import math\n",
        "\n",
        "def projectilemotion_solver(angle, speed):\n",
        "    g = 9.81\n",
        "    angle_rad = math.radians(angle)\n",
        "    horizontal_distance = (speed ** 2) * math.sin(2 * angle_rad) / g\n",
        "    max_height = (speed ** 2) * (math.sin(angle_rad) ** 2) / (2 * g)\n",
        "    return horizontal_distance, max_height\n",
        "angle = 20.0\n",
        "speed = 11.0\n",
        "range_, max_height = projectilemotion_solver(angle, speed)\n",
        "print(f\"The long jumper jumps a distance of {range_:.2f} meters in the horizontal direction.\")\n",
        "print(f\"The maximum height reached is {max_height:.2f} meters.\")"
      ],
      "metadata": {
        "colab": {
          "base_uri": "https://localhost:8080/"
        },
        "id": "PmMlCvS37xGb",
        "outputId": "9a324a3b-7626-4232-c6ac-a2aae7bef19e"
      },
      "execution_count": 87,
      "outputs": [
        {
          "output_type": "stream",
          "name": "stdout",
          "text": [
            "The long jumper jumps a distance of 7.93 meters in the horizontal direction.\n",
            "The maximum height reached is 0.72 meters.\n"
          ]
        }
      ]
    },
    {
      "cell_type": "code",
      "source": [
        "import math\n",
        "\n",
        "def solve_quadratic(a, b, c):\n",
        "    d = b**2 - 4*a*c\n",
        "    return ((-b + d**0.5) / (2*a), (-b - d**0.5) / (2*a)) if d >= 0 else (f'{-b/(2*a)}+{(-d)**0.5/(2*a)}i', f'{-b/(2*a)}-{(-d)**0.5/(2*a)}i')\n",
        "\n",
        "a, b, c = map(float, input(\"Enter coefficients a, b, and c separated by spaces: \").split())\n",
        "\n",
        "roots = solve_quadratic(a, b, c)\n",
        "print(f\"Roots of the quadratic equation {a}x^2 + {b}x + {c} are: {roots}\")\n",
        "\n",
        "with open('quadratic_equation_results.txt', 'a') as file:\n",
        "    file.write(f\"Input: a={a}, b={b}, c={c}\\n\")\n",
        "    file.write(f\"Output: Roots={roots}\\n\\n\")\n"
      ],
      "metadata": {
        "colab": {
          "base_uri": "https://localhost:8080/"
        },
        "id": "HXpeGHlh8XyH",
        "outputId": "b6ef578c-4dc9-4fdd-cfdd-8ae9d91494b3"
      },
      "execution_count": 92,
      "outputs": [
        {
          "output_type": "stream",
          "name": "stdout",
          "text": [
            "Enter coefficients a, b, and c separated by spaces: 10 20 30\n",
            "Roots of the quadratic equation 10.0x^2 + 20.0x + 30.0 are: ('-1.0+1.4142135623730951i', '-1.0-1.4142135623730951i')\n"
          ]
        }
      ]
    }
  ]
}