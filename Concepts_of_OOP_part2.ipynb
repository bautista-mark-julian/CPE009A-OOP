{
  "nbformat": 4,
  "nbformat_minor": 0,
  "metadata": {
    "colab": {
      "provenance": [],
      "authorship_tag": "ABX9TyOY54Vbt7mmHyqTTgLO3pN1",
      "include_colab_link": true
    },
    "kernelspec": {
      "name": "python3",
      "display_name": "Python 3"
    },
    "language_info": {
      "name": "python"
    }
  },
  "cells": [
    {
      "cell_type": "markdown",
      "metadata": {
        "id": "view-in-github",
        "colab_type": "text"
      },
      "source": [
        "<a href=\"https://colab.research.google.com/github/bautista-mark-julian/CPE009A-OOP/blob/main/Concepts_of_OOP_part2.ipynb\" target=\"_parent\"><img src=\"https://colab.research.google.com/assets/colab-badge.svg\" alt=\"Open In Colab\"/></a>"
      ]
    },
    {
      "cell_type": "code",
      "execution_count": 13,
      "metadata": {
        "id": "pOm1Gxdpauyb"
      },
      "outputs": [],
      "source": [
        "class Birds:\n",
        "  def __init__(self,bird_name):\n",
        "    self.bird_name=bird_name\n",
        "  def flying_birds(self):\n",
        "    print(f\"{self.bird_name}flies above the clouds\")\n",
        "  def non_flying_birds(self):\n",
        "    print(f\"{self.bird_name}is the national bird of the Philippines\")"
      ]
    },
    {
      "cell_type": "code",
      "source": [
        "class foo:\n",
        "  def __init__(self,a,b):\n",
        "    self.a=a\n",
        "    self.b=b\n",
        "  def add(self):\n",
        "    return self.a + self.b\n",
        "foo_object = foo(3,4)\n",
        "foo_object.add()"
      ],
      "metadata": {
        "colab": {
          "base_uri": "https://localhost:8080/"
        },
        "id": "jEm50zySdvB0",
        "outputId": "3d1fb75d-f5e5-41a4-9bc0-b8aa66db3565"
      },
      "execution_count": 25,
      "outputs": [
        {
          "output_type": "execute_result",
          "data": {
            "text/plain": [
              "7"
            ]
          },
          "metadata": {},
          "execution_count": 25
        }
      ]
    },
    {
      "cell_type": "code",
      "source": [
        "class Counter:\n",
        "  def __init__(self):\n",
        "    self.current = 0\n",
        "\n",
        "  def increment(self):\n",
        "    self.current += 1\n",
        "\n",
        "  def value(self):\n",
        "    return self.current\n",
        "\n",
        "  def reset(self):\n",
        "    self.current = 0"
      ],
      "metadata": {
        "id": "cjY0iilDeQ5E"
      },
      "execution_count": 27,
      "outputs": []
    },
    {
      "cell_type": "code",
      "source": [
        "#Inheritance, Encapsulation, and Creating Multiple Object Names\n",
        "class Shapes: #creates the super class name Shapes\n",
        "  def __init__(self,side):\n",
        "    self.side = side\n",
        "class Square(Shapes): #inherits the properties of superclass Shapes\n",
        "  def area(self): #defines the method/function to get the area of a square\n",
        "    return self.side*self.side\n",
        "class EquilateralTriangle (Shapes):\n",
        "  def area(self): #defines the method/function to get the area of a equilateral triangle\n",
        "    return self.side*self.side*0.433\n",
        "square = Square(15) #creates and object name square\n",
        "print(square.area()) #print the instance of the attribute of square class\n",
        "EquilateralTriangle = EquilateralTriangle(15) #creates and object name equilateral triangle\n",
        "print(EquilateralTriangle.area()) #print the instance of the attribute of equilateral triangle class"
      ],
      "metadata": {
        "colab": {
          "base_uri": "https://localhost:8080/"
        },
        "id": "OVL4ME33fnH9",
        "outputId": "d0838ee3-e4de-4fa1-9ed7-d859f7ffe533"
      },
      "execution_count": 55,
      "outputs": [
        {
          "output_type": "stream",
          "name": "stdout",
          "text": [
            "225\n",
            "97.425\n"
          ]
        }
      ]
    },
    {
      "cell_type": "code",
      "source": [
        "#Encapsulation using mangling(Double_underscore)\n",
        "class Shapes:\n",
        "  def __init__(self,side):\n",
        "    self.__side = side\n",
        "  def area(self):\n",
        "    print(self.__side * self.__side)\n",
        "class Square(Shapes):\n",
        "  pass\n",
        "\n",
        "square= Square(10)\n",
        "square.area()"
      ],
      "metadata": {
        "colab": {
          "base_uri": "https://localhost:8080/"
        },
        "id": "eeCCpKrOm_nM",
        "outputId": "951d60ae-3789-4a7e-a26c-563d47f6d580"
      },
      "execution_count": 61,
      "outputs": [
        {
          "output_type": "stream",
          "name": "stdout",
          "text": [
            "100\n"
          ]
        }
      ]
    },
    {
      "cell_type": "code",
      "source": [
        "class Person:\n",
        "  def __init__(self, pre, mid, fin):\n",
        "    self.__pre = pre\n",
        "    self.__mid = mid\n",
        "    self.__fin = fin\n",
        "  def grade(self):\n",
        "   return(self.__pre + self.__mid + self.__fin)//3\n",
        "\n",
        "class std1(Person):\n",
        "    pass\n",
        "class std2(Person):\n",
        "    pass\n",
        "class std3(Person):\n",
        "    pass\n",
        "std1 = std1(50,60,70)\n",
        "std1.grade()\n",
        "print(\"The average of std1 is\",std1.grade())\n",
        "std2 = std2(60,70,80)\n",
        "std2.grade()\n",
        "print(\"The average of std2 is\",std2.grade())\n",
        "std3 = std3(70,80,90)\n",
        "std3.grade()\n",
        "print(\"The average of std3 is\",std3.grade())"
      ],
      "metadata": {
        "colab": {
          "base_uri": "https://localhost:8080/"
        },
        "id": "1A7lDMSKtYjV",
        "outputId": "77ba55b3-e6b4-4bc1-eda5-af4717c6a444"
      },
      "execution_count": 106,
      "outputs": [
        {
          "output_type": "stream",
          "name": "stdout",
          "text": [
            "The average of std1 is 60\n",
            "The average of std2 is 70\n",
            "The average of std3 is 80\n"
          ]
        }
      ]
    }
  ]
}